{
 "cells": [
  {
   "cell_type": "code",
   "execution_count": 1,
   "metadata": {},
   "outputs": [],
   "source": [
    "%matplotlib inline\n",
    "import matplotlib.pyplot as plt\n",
    "from sklearn.model_selection import train_test_split\n",
    "import numpy as np\n",
    "import pandas as pd\n",
    "def area(box):\n",
    "    return (box[2] - box[0]) * (box[3] - box[1])\n",
    "\n",
    "\n",
    "def intersection_over_union(boxes):\n",
    "    assert(len(boxes) == 8)\n",
    "    boxA = boxes[:4].values\n",
    "    boxB = boxes[4:].values\n",
    "    \n",
    "    boxAArea = area(boxA)\n",
    "    boxBArea = area(boxB)\n",
    "    \n",
    "    if (boxAArea == 0 or boxBArea == 0):\n",
    "        return 0\n",
    "        \n",
    "    xA = max(boxA[0], boxB[0])\n",
    "    yA = max(boxA[1], boxB[1])\n",
    "    xB = min(boxA[2], boxB[2])\n",
    "    yB = min(boxA[3], boxB[3])\n",
    "\n",
    "    interArea = max(0, xB - xA) * max(0, yB - yA)\n",
    "\n",
    "    \n",
    "    iou = interArea / float(boxAArea + boxBArea - interArea)\n",
    "    return iou"
   ]
  },
  {
   "cell_type": "code",
   "execution_count": 118,
   "metadata": {},
   "outputs": [],
   "source": [
    "votes = pd.read_csv(\"train_data.csv\")"
   ]
  },
  {
   "cell_type": "code",
   "execution_count": 119,
   "metadata": {},
   "outputs": [],
   "source": [
    "votes_test=pd.read_csv(\"test_data.csv\")"
   ]
  },
  {
   "cell_type": "code",
   "execution_count": 120,
   "metadata": {},
   "outputs": [],
   "source": [
    "answers = pd.read_csv(\"train_answers.csv\")"
   ]
  },
  {
   "cell_type": "code",
   "execution_count": 121,
   "metadata": {},
   "outputs": [],
   "source": [
    "vote=votes[votes['itemId']!=31033]\n",
    "votes=vote[vote['itemId']!=25135]\n",
    "\n",
    "answer=answers[answers['itemId']!=31033]\n",
    "answers=answer[answer['itemId']!=25135]"
   ]
  },
  {
   "cell_type": "code",
   "execution_count": 6,
   "metadata": {},
   "outputs": [],
   "source": [
    "def ident(a):\n",
    "    qw=(len(list(a))!=len(list(set(list(a)))))\n",
    "    if qw==1:\n",
    "        print a\n",
    "    return qw\n",
    "#list(votes_test.groupby('itemId')['userId'].apply(ident))"
   ]
  },
  {
   "cell_type": "code",
   "execution_count": 7,
   "metadata": {},
   "outputs": [
    {
     "data": {
      "text/html": [
       "<div>\n",
       "<style scoped>\n",
       "    .dataframe tbody tr th:only-of-type {\n",
       "        vertical-align: middle;\n",
       "    }\n",
       "\n",
       "    .dataframe tbody tr th {\n",
       "        vertical-align: top;\n",
       "    }\n",
       "\n",
       "    .dataframe thead th {\n",
       "        text-align: right;\n",
       "    }\n",
       "</style>\n",
       "<table border=\"1\" class=\"dataframe\">\n",
       "  <thead>\n",
       "    <tr style=\"text-align: right;\">\n",
       "      <th></th>\n",
       "      <th>userId</th>\n",
       "      <th>itemId</th>\n",
       "      <th>Xmin</th>\n",
       "      <th>Ymin</th>\n",
       "      <th>Xmax</th>\n",
       "      <th>Ymax</th>\n",
       "    </tr>\n",
       "  </thead>\n",
       "  <tbody>\n",
       "    <tr>\n",
       "      <th>2782</th>\n",
       "      <td>1195</td>\n",
       "      <td>146</td>\n",
       "      <td>84</td>\n",
       "      <td>729</td>\n",
       "      <td>643</td>\n",
       "      <td>1091</td>\n",
       "    </tr>\n",
       "    <tr>\n",
       "      <th>2783</th>\n",
       "      <td>1383</td>\n",
       "      <td>146</td>\n",
       "      <td>120</td>\n",
       "      <td>735</td>\n",
       "      <td>602</td>\n",
       "      <td>1071</td>\n",
       "    </tr>\n",
       "    <tr>\n",
       "      <th>2784</th>\n",
       "      <td>422</td>\n",
       "      <td>146</td>\n",
       "      <td>45</td>\n",
       "      <td>757</td>\n",
       "      <td>634</td>\n",
       "      <td>1078</td>\n",
       "    </tr>\n",
       "    <tr>\n",
       "      <th>2785</th>\n",
       "      <td>1725</td>\n",
       "      <td>146</td>\n",
       "      <td>106</td>\n",
       "      <td>712</td>\n",
       "      <td>628</td>\n",
       "      <td>1118</td>\n",
       "    </tr>\n",
       "    <tr>\n",
       "      <th>3450</th>\n",
       "      <td>1195</td>\n",
       "      <td>146</td>\n",
       "      <td>51</td>\n",
       "      <td>226</td>\n",
       "      <td>542</td>\n",
       "      <td>545</td>\n",
       "    </tr>\n",
       "    <tr>\n",
       "      <th>3451</th>\n",
       "      <td>1383</td>\n",
       "      <td>146</td>\n",
       "      <td>83</td>\n",
       "      <td>231</td>\n",
       "      <td>506</td>\n",
       "      <td>528</td>\n",
       "    </tr>\n",
       "    <tr>\n",
       "      <th>3452</th>\n",
       "      <td>422</td>\n",
       "      <td>146</td>\n",
       "      <td>17</td>\n",
       "      <td>250</td>\n",
       "      <td>535</td>\n",
       "      <td>534</td>\n",
       "    </tr>\n",
       "    <tr>\n",
       "      <th>3453</th>\n",
       "      <td>1725</td>\n",
       "      <td>146</td>\n",
       "      <td>70</td>\n",
       "      <td>211</td>\n",
       "      <td>529</td>\n",
       "      <td>569</td>\n",
       "    </tr>\n",
       "  </tbody>\n",
       "</table>\n",
       "</div>"
      ],
      "text/plain": [
       "      userId  itemId  Xmin  Ymin  Xmax  Ymax\n",
       "2782    1195     146    84   729   643  1091\n",
       "2783    1383     146   120   735   602  1071\n",
       "2784     422     146    45   757   634  1078\n",
       "2785    1725     146   106   712   628  1118\n",
       "3450    1195     146    51   226   542   545\n",
       "3451    1383     146    83   231   506   528\n",
       "3452     422     146    17   250   535   534\n",
       "3453    1725     146    70   211   529   569"
      ]
     },
     "execution_count": 7,
     "metadata": {},
     "output_type": "execute_result"
    }
   ],
   "source": [
    "votes_test[votes_test['itemId']==146]"
   ]
  },
  {
   "cell_type": "markdown",
   "metadata": {},
   "source": [
    "### Узнать количество юзеров голосовавших больше n раз"
   ]
  },
  {
   "cell_type": "code",
   "execution_count": 123,
   "metadata": {},
   "outputs": [],
   "source": [
    "amount=votes.groupby('userId').apply(lambda x: x.shape[0])"
   ]
  },
  {
   "cell_type": "code",
   "execution_count": 122,
   "metadata": {},
   "outputs": [],
   "source": [
    "b=list(set(list(votes['userId'])))\n",
    "a=list(set(list(votes_test['userId'])))"
   ]
  },
  {
   "cell_type": "code",
   "execution_count": 124,
   "metadata": {},
   "outputs": [],
   "source": [
    "iou_train=pd.Series()\n",
    "for user in b:\n",
    "    x=votes.loc[votes['userId']==user][['itemId','Xmin','Ymin', 'Xmax', 'Ymax']].reset_index().merge(answers, on='itemId')\n",
    "    x[\"iou\"] = x[['Xmin','Ymin', 'Xmax', 'Ymax', 'Xmin_true', 'Ymin_true', 'Xmax_true','Ymax_true']].apply(intersection_over_union, axis=1)\n",
    "    r=x[\"iou\"].mean()\n",
    "    iou_train.at[user]=r"
   ]
  },
  {
   "cell_type": "code",
   "execution_count": 11,
   "metadata": {},
   "outputs": [
    {
     "data": {
      "text/plain": [
       "24"
      ]
     },
     "execution_count": 11,
     "metadata": {},
     "output_type": "execute_result"
    }
   ],
   "source": [
    "q1=list(amount[amount>20].keys())\n",
    "q2=list(iou_train[iou_train>0.32].keys())\n",
    "good_users=list(set(q1)&set(q2))\n",
    "len(good_users)"
   ]
  },
  {
   "cell_type": "markdown",
   "metadata": {},
   "source": [
    "## Обучаем"
   ]
  },
  {
   "cell_type": "code",
   "execution_count": 12,
   "metadata": {},
   "outputs": [],
   "source": [
    "from sklearn.linear_model import LinearRegression as LR\n",
    "from sklearn.linear_model import Ridge\n",
    "rng = np.random.RandomState(0)\n",
    "def apply_iou_score(x):\n",
    "    if x in iou_train:\n",
    "        return iou_train[x]\n",
    "    else:\n",
    "        return 0.445"
   ]
  },
  {
   "cell_type": "code",
   "execution_count": 28,
   "metadata": {},
   "outputs": [],
   "source": [
    "vv=votes.copy()\n",
    "vv['user_score']=votes['userId'].apply(lambda x: apply_iou_score(x))\n",
    "votes=vv.copy()"
   ]
  },
  {
   "cell_type": "code",
   "execution_count": 13,
   "metadata": {},
   "outputs": [],
   "source": [
    "def lin_reg_user(us_id):\n",
    "    l={}\n",
    "    x=votes.loc[votes['userId']==us_id]\n",
    "    ss=list(set(x['itemId']))\n",
    "    if len(ss)>0:\n",
    "        ans_user=answers.loc[answers['itemId'].isin(ss)]\n",
    "        for i in ['Xmin', 'Ymin', 'Xmax', 'Ymax']:\n",
    "            l[i]=Ridge(alpha=3.0)\n",
    "            igrek, iks=[],[]\n",
    "            for ii in ss:\n",
    "                igrek.append(list(ans_user.loc[ans_user['itemId']==ii][i+'_true'])[0])\n",
    "                iks.append(list(x.loc[x['itemId']==ii][i])[0])\n",
    "            l[i].fit(np.array(iks).reshape(-1,1), np.array(igrek))\n",
    "        return l"
   ]
  },
  {
   "cell_type": "code",
   "execution_count": 14,
   "metadata": {},
   "outputs": [],
   "source": [
    "u={}\n",
    "for user in good_users:\n",
    "    rrr=lin_reg_user(user)\n",
    "    if rrr!=None:\n",
    "        u[user]=rrr"
   ]
  },
  {
   "cell_type": "code",
   "execution_count": 15,
   "metadata": {},
   "outputs": [
    {
     "data": {
      "text/plain": [
       "24"
      ]
     },
     "execution_count": 15,
     "metadata": {},
     "output_type": "execute_result"
    }
   ],
   "source": [
    "len(u)\n"
   ]
  },
  {
   "cell_type": "markdown",
   "metadata": {},
   "source": [
    "## Применяем на тестовой"
   ]
  },
  {
   "cell_type": "code",
   "execution_count": 158,
   "metadata": {},
   "outputs": [],
   "source": [
    "def drop_under_thr(x, thr=0.32):\n",
    "    scores=np.array(x['user_score'])\n",
    "    len_scores=len(scores)\n",
    "    scores_above_thr=[i for i in scores if i>thr]\n",
    "    if len(scores_above_thr)>0:\n",
    "        rez=x.loc[x['user_score']>thr][['userId','itemId','Xmin','Ymin', 'Xmax', 'Ymax','user_score']]\n",
    "    else:\n",
    "        rez=x.loc[x['user_score']==scores.max()][['userId','itemId','Xmin','Ymin', 'Xmax', 'Ymax','user_score']]\n",
    "    return rez    "
   ]
  },
  {
   "cell_type": "code",
   "execution_count": 17,
   "metadata": {},
   "outputs": [],
   "source": [
    "tt=[]\n",
    "for user in a:\n",
    "    if user in good_users:\n",
    "        temp=[]\n",
    "        for i in ['Xmin', 'Ymin', 'Xmax', 'Ymax']:\n",
    "            temp.append(votes_test[votes_test['userId']==user][[i]].apply(lambda x: u[user][i].predict(np.array(x).reshape(-1,1))) )\n",
    "        ite=votes_test[votes_test['userId']==user][['itemId','userId']]\n",
    "        temp.append(ite)\n",
    "        te=pd.concat(temp,axis=1)\n",
    "        tt.append(te)\n",
    "    else:\n",
    "        #pass\n",
    "        tt.append(votes_test[votes_test['userId']==user][[ 'Xmin', 'Ymin', 'Xmax', 'Ymax','itemId','userId']])\n",
    "tt=pd.concat(tt) \n",
    "tess=tt[['itemId','userId','Xmin','Ymin', 'Xmax', 'Ymax']].copy()\n",
    "tess['user_score']=tess['userId'].apply(lambda x: apply_iou_score(x))\n",
    "test_votes_new=tess.groupby(\"itemId\").apply(lambda x: drop_under_thr(x,0.32))"
   ]
  },
  {
   "cell_type": "code",
   "execution_count": 299,
   "metadata": {},
   "outputs": [],
   "source": [
    "x_mi=test_votes_new[['userId','Xmin','Ymin', 'Xmax', 'Ymax','user_score']].groupby(\"itemId\")[['Xmin']].quantile(.0)\n",
    "x_ma=test_votes_new[['userId','Xmin','Ymin', 'Xmax', 'Ymax','user_score']].groupby(\"itemId\")[['Xmax']].quantile(1.0)\n",
    "y_mi=test_votes_new[['userId','Xmin','Ymin', 'Xmax', 'Ymax','user_score']].groupby(\"itemId\")[['Ymin']].quantile(.0)\n",
    "y_ma=test_votes_new[['userId','Xmin','Ymin', 'Xmax', 'Ymax','user_score']].groupby(\"itemId\")[['Ymax']].quantile(1.0)\n",
    "dd=x_mi.merge(y_mi,on=[\"itemId\"])\n",
    "dd=dd.merge(x_ma,on=[\"itemId\"])\n",
    "dd=dd.merge(y_ma,on=[\"itemId\"]).reset_index()\n",
    "\n",
    "dd['X_diap']= (-1.0)*(dd['Xmax']-dd['Xmin'])*0\n",
    "dd['Y_diap']= (-1.0)*(dd['Ymax']-dd['Ymin'])*0\n",
    "ddd=dd.copy()\n",
    "ddd['Xmax']=dd['Xmax']-dd['X_diap']\n",
    "ddd['Xmin']=dd['Xmin']+dd['X_diap']\n",
    "ddd['Ymax']=dd['Ymax']\n",
    "ddd['Ymin']=dd['Ymin']\n",
    "\n",
    "ddd1=ddd[['itemId','Xmin','Ymin', 'Xmax', 'Ymax']]\n",
    "ddd1.to_csv('submit_thr_goodusers.csv',index=0)"
   ]
  },
  {
   "cell_type": "code",
   "execution_count": 18,
   "metadata": {},
   "outputs": [],
   "source": [
    "def viz(us):\n",
    "    print u[us]['Xmax'].coef_[0],'x + ',u[us]['Xmax'].intercept_\n",
    "    print u[us]['Xmin'].coef_[0],'x + ',u[us]['Xmin'].intercept_\n",
    "    print u[us]['Ymax'].coef_[0],'x + ',u[us]['Ymax'].intercept_\n",
    "    print u[us]['Ymin'].coef_[0],'x + ',u[us]['Ymin'].intercept_"
   ]
  },
  {
   "cell_type": "markdown",
   "metadata": {},
   "source": [
    "## По соседям"
   ]
  },
  {
   "cell_type": "code",
   "execution_count": 125,
   "metadata": {},
   "outputs": [],
   "source": [
    "#Генерируем юзеров с достаточным количеством точек и соседей\n",
    "def gen_user_neighb(dots, neighb,thr=0):\n",
    "    u=list(amount[amount>dots].keys())\n",
    "    rez=[]\n",
    "    for us in u:\n",
    "        tt=True\n",
    "        tt1=True\n",
    "        l=list(votes[votes['userId']==us]['itemId'])\n",
    "        for i in l:\n",
    "            temp=list(votes[votes['itemId']==i]['userId'])\n",
    "            temp.remove(us)\n",
    "            if len(temp)==0: print us,i\n",
    "            if len(temp)>=neighb:\n",
    "                tt*=True\n",
    "            else:\n",
    "                tt*=False\n",
    "            if ( False in map(lambda x: iou_train[x]>=thr,temp) ):\n",
    "                tt1*=False\n",
    "            else: tt1*=True\n",
    "            \n",
    "        if tt==True:\n",
    "            if iou_train[us]>=thr:\n",
    "                if tt1==True:\n",
    "                    rez.append(us)\n",
    "    return rez"
   ]
  },
  {
   "cell_type": "code",
   "execution_count": 201,
   "metadata": {},
   "outputs": [
    {
     "name": "stdout",
     "output_type": "stream",
     "text": [
      "4\n"
     ]
    }
   ],
   "source": [
    "yy=sorted(gen_user_neighb(9,4,0.0))\n",
    "print len(yy)"
   ]
  },
  {
   "cell_type": "code",
   "execution_count": 202,
   "metadata": {},
   "outputs": [],
   "source": [
    "r=[]\n",
    "for us in yy:\n",
    "    l=list(votes[votes['userId']==us]['itemId'])\n",
    "    for i in l:\n",
    "        temp=list(votes[votes['itemId']==i]['userId'])\n",
    "        temp.remove(us)\n",
    "        no_user=votes.loc[votes['itemId']==i].loc[votes['userId'].isin(temp)][['Xmin','Ymin', 'Xmax', 'Ymax']].apply(np.mean)\n",
    "        www=pd.DataFrame(no_user).transpose()\n",
    "        www['userId']=us\n",
    "        www['itemId']=i\n",
    "        r.append(www)\n",
    "rez=pd.concat(r)"
   ]
  },
  {
   "cell_type": "code",
   "execution_count": 132,
   "metadata": {},
   "outputs": [],
   "source": [
    "from sklearn.linear_model import Lasso, ElasticNet, Ridge, RidgeCV, LassoCV\n",
    "from sklearn.linear_model import LinearRegression as LR\n",
    "from sklearn.ensemble import RandomForestRegressor, GradientBoostingRegressor"
   ]
  },
  {
   "cell_type": "code",
   "execution_count": 203,
   "metadata": {},
   "outputs": [],
   "source": [
    "def lin_reg(us_id):\n",
    "    x=rez.loc[rez['userId']==us_id]\n",
    "    xx=votes.loc[votes['userId']==us_id]\n",
    "    ss=list(x['itemId'])\n",
    "    ans_user=answers.loc[answers['itemId'].isin(ss)]    \n",
    "    l={}\n",
    "    for i in ['Xmin', 'Ymin', 'Xmax', 'Ymax']:\n",
    "        l[i]=LR()\n",
    "        igrek, iks=[],[]\n",
    "        for ii in ss:\n",
    "            igrek.append(list(ans_user.loc[ans_user['itemId']==ii][i+'_true'])[0])\n",
    "            iks.append([list(xx.loc[xx['itemId']==ii][i])[0], list(x.loc[x['itemId']==ii][i])[0] ])\n",
    "        l[i].fit(np.array(iks), np.array(igrek))\n",
    "    return l\n",
    "\n",
    "def rf_reg(us_id,nn):\n",
    "    x=rez.loc[rez['userId']==us_id]\n",
    "    xx=votes.loc[votes['userId']==us_id]\n",
    "    ss=list(x['itemId'])\n",
    "    ans_user=answers.loc[answers['itemId'].isin(ss)]    \n",
    "    l={}\n",
    "    for i in ['Xmin', 'Ymin', 'Xmax', 'Ymax']:\n",
    "        l[i]=RandomForestRegressor(n_estimators=nn)\n",
    "        igrek, iks=[],[]\n",
    "        for ii in ss:\n",
    "            igrek.append(list(ans_user.loc[ans_user['itemId']==ii][i+'_true'])[0])\n",
    "            iks.append([list(xx.loc[xx['itemId']==ii][i])[0], list(x.loc[x['itemId']==ii][i])[0] ])\n",
    "        l[i].fit(np.array(iks), np.array(igrek))\n",
    "    return l\n",
    "\n",
    "def lasso_reg(us_id,alp):\n",
    "    x=rez.loc[rez['userId']==us_id]\n",
    "    xx=votes.loc[votes['userId']==us_id]\n",
    "    ss=list(x['itemId'])\n",
    "    ans_user=answers.loc[answers['itemId'].isin(ss)]    \n",
    "    l={}\n",
    "    for i in ['Xmin', 'Ymin', 'Xmax', 'Ymax']:\n",
    "        l[i]=Lasso(alpha=alp)\n",
    "        igrek, iks=[],[]\n",
    "        for ii in ss:\n",
    "            igrek.append(list(ans_user.loc[ans_user['itemId']==ii][i+'_true'])[0])\n",
    "            iks.append([list(xx.loc[xx['itemId']==ii][i])[0], list(x.loc[x['itemId']==ii][i])[0] ])\n",
    "        l[i].fit(np.array(iks), np.array(igrek))\n",
    "    return l\n",
    "\n",
    "def ridge_reg(us_id,alp):\n",
    "    x=rez.loc[rez['userId']==us_id]\n",
    "    xx=votes.loc[votes['userId']==us_id]\n",
    "    ss=list(x['itemId'])\n",
    "    ans_user=answers.loc[answers['itemId'].isin(ss)]    \n",
    "    l={}\n",
    "    for i in ['Xmin', 'Ymin', 'Xmax', 'Ymax']:\n",
    "        l[i]=Ridge(alpha=alp)\n",
    "        igrek, iks=[],[]\n",
    "        for ii in ss:\n",
    "            igrek.append(list(ans_user.loc[ans_user['itemId']==ii][i+'_true'])[0])\n",
    "            iks.append([list(xx.loc[xx['itemId']==ii][i])[0], list(x.loc[x['itemId']==ii][i])[0] ])\n",
    "        l[i].fit(np.array(iks), np.array(igrek))\n",
    "    return l\n",
    "\n",
    "def ridgecv_reg(us_id):\n",
    "    x=rez.loc[rez['userId']==us_id]\n",
    "    xx=votes.loc[votes['userId']==us_id]\n",
    "    ss=list(x['itemId'])\n",
    "    ans_user=answers.loc[answers['itemId'].isin(ss)]    \n",
    "    l={}\n",
    "    for i in ['Xmin', 'Ymin', 'Xmax', 'Ymax']:\n",
    "        l[i]=RidgeCV(alphas=np.arange(1, 1000000, 10))\n",
    "        igrek, iks=[],[]\n",
    "        for ii in ss:\n",
    "            igrek.append(list(ans_user.loc[ans_user['itemId']==ii][i+'_true'])[0])\n",
    "            iks.append([list(xx.loc[xx['itemId']==ii][i])[0], list(x.loc[x['itemId']==ii][i])[0] ])\n",
    "        l[i].fit(np.array(iks), np.array(igrek))\n",
    "    return l\n",
    "\n",
    "def gbm_reg(us_id,lr,nn):\n",
    "    x=rez.loc[rez['userId']==us_id]\n",
    "    xx=votes.loc[votes['userId']==us_id]\n",
    "    ss=list(x['itemId'])\n",
    "    ans_user=answers.loc[answers['itemId'].isin(ss)]    \n",
    "    l={}\n",
    "    for i in ['Xmin', 'Ymin', 'Xmax', 'Ymax']:\n",
    "        l[i]=GradientBoostingRegressor(learning_rate=lr, n_estimators=nn,max_depth=1)\n",
    "        igrek, iks=[],[]\n",
    "        for ii in ss:\n",
    "            igrek.append(list(ans_user.loc[ans_user['itemId']==ii][i+'_true'])[0])\n",
    "            iks.append([list(xx.loc[xx['itemId']==ii][i])[0], list(x.loc[x['itemId']==ii][i])[0] ])\n",
    "        l[i].fit(np.array(iks), np.array(igrek))\n",
    "    return l\n",
    "\n",
    "def en_reg(us_id,alp,l):\n",
    "    x=rez.loc[rez['userId']==us_id]\n",
    "    xx=votes.loc[votes['userId']==us_id]\n",
    "    ss=list(x['itemId'])\n",
    "    ans_user=answers.loc[answers['itemId'].isin(ss)]    \n",
    "    l={}\n",
    "    for i in ['Xmin', 'Ymin', 'Xmax', 'Ymax']:\n",
    "        l[i]=ElasticNet(alpha=alp,l1_ratio=l)\n",
    "        igrek, iks=[],[]\n",
    "        for ii in ss:\n",
    "            igrek.append(list(ans_user.loc[ans_user['itemId']==ii][i+'_true'])[0])\n",
    "            iks.append([list(xx.loc[xx['itemId']==ii][i])[0], list(x.loc[x['itemId']==ii][i])[0] ])\n",
    "        l[i].fit(np.array(iks), np.array(igrek))\n",
    "    return l"
   ]
  },
  {
   "cell_type": "code",
   "execution_count": 204,
   "metadata": {},
   "outputs": [
    {
     "name": "stdout",
     "output_type": "stream",
     "text": [
      "25\n",
      "242\n",
      "651\n",
      "761\n"
     ]
    }
   ],
   "source": [
    "RIDGECV_Reg={}\n",
    "for user in yy:\n",
    "    print user\n",
    "    RIDGECV_Reg[user]=ridgecv_reg(user)"
   ]
  },
  {
   "cell_type": "code",
   "execution_count": 205,
   "metadata": {},
   "outputs": [
    {
     "name": "stdout",
     "output_type": "stream",
     "text": [
      "25 Xmin 3851\n",
      "25 Ymin 1981\n",
      "25 Xmax 4091\n",
      "25 Ymax 21371\n",
      "242 Xmin 33631\n",
      "242 Ymin 147911\n",
      "242 Xmax 169761\n",
      "242 Ymax 18011\n",
      "651 Xmin 657771\n",
      "651 Ymin 51221\n",
      "651 Xmax 202251\n",
      "651 Ymax 104701\n",
      "761 Xmin 35951\n",
      "761 Ymin 1801\n",
      "761 Xmax 30021\n",
      "761 Ymax 2221\n"
     ]
    }
   ],
   "source": [
    "for us in yy:\n",
    "    for i in ['Xmin', 'Ymin', 'Xmax', 'Ymax']:\n",
    "        print us,i,RIDGECV_Reg[us][i].alpha_"
   ]
  },
  {
   "cell_type": "code",
   "execution_count": 206,
   "metadata": {},
   "outputs": [],
   "source": [
    "'''\n",
    "Lin_Reg={}\n",
    "for user in yy:\n",
    "    Lin_Reg[user]=lin_reg(user)\n",
    "\n",
    "Enet_2={}\n",
    "for user in yy:\n",
    "    Enet_2[user]=en_reg(user,2,1)\n",
    "\n",
    "Lasso_2={}\n",
    "for user in yy:\n",
    "    Lasso_2[user]=lasso_reg(user,2)\n",
    "    \n",
    "RF_Reg10={}\n",
    "for user in yy:\n",
    "    RF_Reg10[user]=rf_reg(user,10)\n",
    "\n",
    "RF_Reg20={}\n",
    "for user in yy:\n",
    "    RF_Reg20[user]=rf_reg(user,20)\n",
    "    \n",
    "RF_Reg30={}\n",
    "for user in yy:\n",
    "    RF_Reg30[user]=rf_reg(user,30)\n",
    "    \n",
    "RIDGE_Reg1={}\n",
    "for user in yy:\n",
    "    RIDGE_Reg1[user]=ridge_reg(user,1)\n",
    "    \n",
    "RIDGE_Reg4={}\n",
    "for user in yy:\n",
    "    RIDGE_Reg4[user]=ridge_reg(user,4)\n",
    "\n",
    "GBM_Reg_01_50={}\n",
    "for user in yy:\n",
    "    GBM_Reg_01_50[user]=gbm_reg(user,0.1,50)\n",
    "    \n",
    "GBM_Reg_004_40={}\n",
    "for user in yy:\n",
    "    GBM_Reg_004_40[user]=gbm_reg(user,0.04,40)\n",
    "'''\n",
    "GBM_Reg_01_20={}\n",
    "for user in yy:\n",
    "    GBM_Reg_01_20[user]=gbm_reg(user,0.1,20)"
   ]
  },
  {
   "cell_type": "code",
   "execution_count": 207,
   "metadata": {},
   "outputs": [
    {
     "name": "stderr",
     "output_type": "stream",
     "text": [
      "/home/jerry/anaconda2/lib/python2.7/site-packages/ipykernel_launcher.py:48: FutureWarning: Sorting because non-concatenation axis is not aligned. A future version\n",
      "of pandas will change to not sort by default.\n",
      "\n",
      "To accept the future behavior, pass 'sort=False'.\n",
      "\n",
      "To retain the current behavior and silence the warning, pass 'sort=True'.\n",
      "\n"
     ]
    }
   ],
   "source": [
    "tt=[]\n",
    "for user in a:\n",
    "    if user in yy:\n",
    "        r=[]\n",
    "        l=list(votes_test[votes_test['userId']==user]['itemId'])\n",
    "        for i in l:\n",
    "            temp=list(votes_test[votes_test['itemId']==i]['userId'])\n",
    "            temp.remove(user)\n",
    "            if len(temp)==0:\n",
    "                print 'Len = 0', user, i\n",
    "                tt.append(votes_test[votes_test['userId']==user][[ 'Xmin', 'Ymin', 'Xmax', 'Ymax','itemId','userId']])\n",
    "            else:\n",
    "                no_user=votes_test.loc[votes_test['itemId']==i].loc[votes_test['userId'].isin(temp)][['Xmin','Ymin', 'Xmax', 'Ymax']].apply(np.mean)\n",
    "                www=pd.DataFrame(no_user).transpose()\n",
    "                www['userId']=us\n",
    "                www['itemId']=i\n",
    "                a1=votes_test.loc[votes_test['itemId']==i].loc[votes_test['userId']==user]\n",
    "                otvet=pd.DataFrame()\n",
    "                index=a1['userId'].keys()[0]\n",
    "                otvet.at[index,'userId']=int(user)\n",
    "                otvet.at[index,'itemId']=i\n",
    "                for i in ['Xmin', 'Ymin', 'Xmax', 'Ymax']:\n",
    "                    temp1=np.array([list(a1[i])[0], list(www[i])[0]])\n",
    "                    '''\n",
    "                    p1=Lin_Reg[user][i].predict( temp1.reshape(1,-1) )[0]\n",
    "                    p2=RF_Reg10[user][i].predict( temp1.reshape(1,-1) )[0]\n",
    "                    p3=RF_Reg20[user][i].predict( temp1.reshape(1,-1) )[0]\n",
    "                    p4=RIDGE_Reg1[user][i].predict( temp1.reshape(1,-1) )[0]\n",
    "                    p5=RIDGE_Reg4[user][i].predict( temp1.reshape(1,-1) )[0]\n",
    "                    p6=GBM_Reg_01_50[user][i].predict( temp1.reshape(1,-1) )[0]\n",
    "                    p7=GBM_Reg_005_100[user][i].predict( temp1.reshape(1,-1) )[0]\n",
    "                    p8=GBM_Reg_004_40[user][i].predict( temp1.reshape(1,-1) )[0]\n",
    "                    p9=Lasso_2[user][i].predict( temp1.reshape(1,-1) )[0]\n",
    "                    p10=RF_Reg30[user][i].predict( temp1.reshape(1,-1) )[0]\n",
    "                    \n",
    "                    '''\n",
    "                    p11=GBM_Reg_01_20[user][i].predict( temp1.reshape(1,-1) )[0]\n",
    "                    p12=RIDGECV_Reg[user][i].predict( temp1.reshape(1,-1) )[0]\n",
    "                    ppp=np.array([p11,p12]).mean()\n",
    "                    otvet.at[index,i]=ppp\n",
    "                    \n",
    "                    \n",
    "                    \n",
    "                    \n",
    "                tt.append(otvet)\n",
    "    else:\n",
    "        tt.append(votes_test[votes_test['userId']==int(user)][[ 'Xmin', 'Ymin', 'Xmax', 'Ymax','itemId','userId']])\n",
    "tt=pd.concat(tt) \n",
    "tess=tt[['itemId','userId','Xmin','Ymin', 'Xmax', 'Ymax']].copy()\n",
    "tess['user_score']=tess['userId'].apply(lambda x: apply_iou_score(x))\n",
    "test_votes_new=tess.groupby(\"itemId\").apply(lambda x: drop_under_thr(x,0.0))\n"
   ]
  },
  {
   "cell_type": "code",
   "execution_count": 208,
   "metadata": {},
   "outputs": [],
   "source": [
    "x_mi=test_votes_new[['userId','Xmin','Ymin', 'Xmax', 'Ymax','user_score']].groupby(\"itemId\")[['Xmin']].quantile(.0)\n",
    "x_ma=test_votes_new[['userId','Xmin','Ymin', 'Xmax', 'Ymax','user_score']].groupby(\"itemId\")[['Xmax']].quantile(1.0)\n",
    "y_mi=test_votes_new[['userId','Xmin','Ymin', 'Xmax', 'Ymax','user_score']].groupby(\"itemId\")[['Ymin']].quantile(.0)\n",
    "y_ma=test_votes_new[['userId','Xmin','Ymin', 'Xmax', 'Ymax','user_score']].groupby(\"itemId\")[['Ymax']].quantile(1.0)\n",
    "dd=x_mi.merge(y_mi,on=[\"itemId\"])\n",
    "dd=dd.merge(x_ma,on=[\"itemId\"])\n",
    "dd=dd.merge(y_ma,on=[\"itemId\"]).reset_index()\n",
    "\n",
    "dd['X_diap']= (-1.0)*(dd['Xmax']-dd['Xmin'])*0\n",
    "dd['Y_diap']= (-1.0)*(dd['Ymax']-dd['Ymin'])*0\n",
    "ddd=dd.copy()\n",
    "ddd['Xmax']=dd['Xmax']-dd['X_diap']\n",
    "ddd['Xmin']=dd['Xmin']+dd['X_diap']\n",
    "ddd['Ymax']=dd['Ymax']\n",
    "ddd['Ymin']=dd['Ymin']\n",
    "\n",
    "ddd1=ddd[['Xmin','Ymin', 'Xmax', 'Ymax']].copy()\n",
    "ddd1['itemId']=ddd['itemId'].apply(lambda x: np.int(x))\n",
    "ddd2=ddd1[['itemId','Xmin','Ymin', 'Xmax', 'Ymax']]\n",
    "ddd2.to_csv('submit_thr_sosedi.csv',index=0)"
   ]
  }
 ],
 "metadata": {
  "kernelspec": {
   "display_name": "Python 2",
   "language": "python",
   "name": "python2"
  },
  "language_info": {
   "codemirror_mode": {
    "name": "ipython",
    "version": 2
   },
   "file_extension": ".py",
   "mimetype": "text/x-python",
   "name": "python",
   "nbconvert_exporter": "python",
   "pygments_lexer": "ipython2",
   "version": "2.7.16"
  }
 },
 "nbformat": 4,
 "nbformat_minor": 2
}
